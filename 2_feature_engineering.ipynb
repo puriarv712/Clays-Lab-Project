{
 "cells": [
  {
   "cell_type": "markdown",
   "metadata": {},
   "source": [
    "# 2 Feature Engineering"
   ]
  },
  {
   "cell_type": "markdown",
   "metadata": {},
   "source": [
    "## 2.1 Slot-level aggregation"
   ]
  },
  {
   "cell_type": "code",
   "execution_count": null,
   "metadata": {
    "vscode": {
     "languageId": "plaintext"
    }
   },
   "outputs": [],
   "source": [
    "# Aggregate to one row per (venue, date, hour)\n",
    "# Sum searches, bookings, avg_price_shown, pct_availability\n",
    "# Keep raw search-level rows for backup\n",
    "\n",
    "# (? does it make sense to) Produce training dataframe (venue-hour rows) with engineered calendar & price features\n"
   ]
  },
  {
   "cell_type": "markdown",
   "metadata": {},
   "source": [
    "## 2.2 Time-slot clustering (peak bands)"
   ]
  },
  {
   "cell_type": "code",
   "execution_count": null,
   "metadata": {
    "vscode": {
     "languageId": "plaintext"
    }
   },
   "outputs": [],
   "source": [
    "# Perform the elbow test to determine k number of clusters\n",
    "# Run k-means (k = ?) on occupancy % + lead_time\n",
    "# Label clusters as \"super_peak / peak / off_peak / ...\" or with numbers, however is best\n",
    "# Save table dim_timeslot_clusters.csv\n"
   ]
  },
  {
   "cell_type": "markdown",
   "metadata": {},
   "source": [
    "## ..."
   ]
  },
  {
   "cell_type": "code",
   "execution_count": null,
   "metadata": {
    "vscode": {
     "languageId": "plaintext"
    }
   },
   "outputs": [],
   "source": [
    "# ..."
   ]
  }
 ],
 "metadata": {
  "language_info": {
   "name": "python"
  }
 },
 "nbformat": 4,
 "nbformat_minor": 2
}
