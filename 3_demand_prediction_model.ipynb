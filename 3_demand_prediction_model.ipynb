{
 "cells": [
  {
   "cell_type": "markdown",
   "metadata": {},
   "source": [
    "# 3 Demand-Prediction Model"
   ]
  },
  {
   "cell_type": "markdown",
   "metadata": {},
   "source": [
    "## 3.1 Train/test split"
   ]
  },
  {
   "cell_type": "code",
   "execution_count": null,
   "metadata": {
    "vscode": {
     "languageId": "plaintext"
    }
   },
   "outputs": [],
   "source": [
    "# Temporal split: train = data up to T-30 days; test = last 30 days\n",
    "# Avoid leakage by keeping full slots together\n",
    "\n"
   ]
  },
  {
   "cell_type": "markdown",
   "metadata": {},
   "source": [
    "## 3.2 LightGBM classifier → booking-probability"
   ]
  },
  {
   "cell_type": "code",
   "execution_count": null,
   "metadata": {
    "vscode": {
     "languageId": "plaintext"
    }
   },
   "outputs": [],
   "source": [
    "# Fit LightGBM (+ baseline Prophet?)\n",
    "# Target: was_booked\n",
    "# Features: price_shown, party_size, hour, cluster, lead_time, etc.\n",
    "# Evaluate AUC / logloss, MAPE/SMAPE; log SHAP top features\n",
    "# Save shap_summary.png\n"
   ]
  },
  {
   "cell_type": "markdown",
   "metadata": {},
   "source": [
    "## 3.3 Price-response grid generation"
   ]
  },
  {
   "cell_type": "code",
   "execution_count": null,
   "metadata": {
    "vscode": {
     "languageId": "plaintext"
    }
   },
   "outputs": [],
   "source": [
    "# For each (venue, hour) create a grid of candidate prices (e.g. £15-£35, step £2)\n",
    "# Predict booking_prob for each price; calculate expected_revenue = prob * price\n",
    "# Save wide table: venue, date, hour, price, expected_revenue\n",
    "# (not sure if we should...) Score demand at 5 candidate prices per slot → price_response_grid.csv\n"
   ]
  },
  {
   "cell_type": "markdown",
   "metadata": {},
   "source": [
    "## ..."
   ]
  },
  {
   "cell_type": "code",
   "execution_count": null,
   "metadata": {
    "vscode": {
     "languageId": "plaintext"
    }
   },
   "outputs": [],
   "source": [
    "# ..."
   ]
  }
 ],
 "metadata": {
  "language_info": {
   "name": "python"
  }
 },
 "nbformat": 4,
 "nbformat_minor": 2
}
