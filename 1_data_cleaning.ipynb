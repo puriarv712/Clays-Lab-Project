{
 "cells": [
  {
   "cell_type": "markdown",
   "metadata": {},
   "source": [
    "# 1 Data Cleaning & Standardisation"
   ]
  },
  {
   "cell_type": "markdown",
   "metadata": {},
   "source": [
    "## 1.1 Load raw CSV and set dtypes"
   ]
  },
  {
   "cell_type": "code",
   "execution_count": null,
   "metadata": {},
   "outputs": [],
   "source": [
    "# Read the single 250 k-row CSV → pandas DataFrame\n",
    "# Explicitly set correct dtypes to avoid object columns\n",
    "# Immediately save a safety copy as full_raw.parquet\n"
   ]
  },
  {
   "cell_type": "markdown",
   "metadata": {},
   "source": [
    "## 1.2 Business-rule filters"
   ]
  },
  {
   "cell_type": "code",
   "execution_count": null,
   "metadata": {},
   "outputs": [],
   "source": [
    "# Filter invalid rows\n",
    "# Drop party_size > 20 (offline searches)\n",
    "# Remove negative money columns, negative search_days_ahead and other non-sense values\n",
    "# Cap search_days_ahead at 180 (99th percentile guardrail)\n"
   ]
  },
  {
   "cell_type": "markdown",
   "metadata": {},
   "source": [
    "## 1.3 Core feature flags"
   ]
  },
  {
   "cell_type": "code",
   "execution_count": null,
   "metadata": {},
   "outputs": [],
   "source": [
    "# was_booked = 1 if reservation_id not null else 0\n",
    "# lead_time_days = (reservation_date − search_date).days\n",
    "# hour_of_day, day_of_week, is_weekend\n",
    "# Convert venue_name, charge_type, booking_status → categorical\n"
   ]
  },
  {
   "cell_type": "markdown",
   "metadata": {},
   "source": [
    "## 1.4 Data-quality report"
   ]
  },
  {
   "cell_type": "code",
   "execution_count": null,
   "metadata": {},
   "outputs": [],
   "source": [
    "# Compare df.info() before/after, null counts, money distributions, etc\n",
    "# Export HTML summary as data_quality.html\n"
   ]
  },
  {
   "cell_type": "markdown",
   "metadata": {},
   "source": [
    "## 1.5 Updated Dataset"
   ]
  },
  {
   "cell_type": "code",
   "execution_count": null,
   "metadata": {},
   "outputs": [],
   "source": [
    "# Create a new .csv file with updated dataset from pandas DataFrame\n",
    "# Select only important columns\n",
    "# Export data to a Parquet object to use in future code\n",
    "\n",
    "# Also, move scripts into src/ingest, add README install steps"
   ]
  }
 ],
 "metadata": {
  "kernelspec": {
   "display_name": "base",
   "language": "python",
   "name": "python3"
  },
  "language_info": {
   "name": "python",
   "version": "3.12.3"
  }
 },
 "nbformat": 4,
 "nbformat_minor": 2
}
